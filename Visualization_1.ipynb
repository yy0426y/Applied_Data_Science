{
  "metadata": {
    "kernelspec": {
      "name": "python",
      "display_name": "Python (Pyodide)",
      "language": "python"
    },
    "language_info": {
      "codemirror_mode": {
        "name": "python",
        "version": 3
      },
      "file_extension": ".py",
      "mimetype": "text/x-python",
      "name": "python",
      "nbconvert_exporter": "python",
      "pygments_lexer": "ipython3",
      "version": "3.8"
    }
  },
  "nbformat_minor": 4,
  "nbformat": 4,
  "cells": [
    {
      "cell_type": "code",
      "source": "%pip install seaborn\n%pip install folium",
      "metadata": {
        "trusted": true
      },
      "outputs": [],
      "execution_count": null
    },
    {
      "cell_type": "code",
      "source": "import numpy as np\nimport pandas as pd\n%matplotlib inline\nimport matplotlib as mpl\nimport matplotlib.pyplot as plt\nimport seaborn as sns\nimport folium",
      "metadata": {
        "trusted": true
      },
      "outputs": [],
      "execution_count": null
    },
    {
      "cell_type": "code",
      "source": "from js import fetch\nimport io\n\nURL = \"https://cf-courses-data.s3.us.cloud-object-storage.appdomain.cloud/IBMDeveloperSkillsNetwork-DV0101EN-SkillsNetwork/Data%20Files/historical_automobile_sales.csv\"\nresp = await fetch(URL)\ntext = io.BytesIO((await resp.arrayBuffer()).to_py())\nimport pandas as pd\ndf = pd.read_csv(text)\nprint('Data downloaded and read into a dataframe!')",
      "metadata": {
        "trusted": true
      },
      "outputs": [],
      "execution_count": null
    },
    {
      "cell_type": "code",
      "source": "df.describe()\ndf.columns",
      "metadata": {
        "trusted": true
      },
      "outputs": [],
      "execution_count": null
    },
    {
      "cell_type": "code",
      "source": "print(df)",
      "metadata": {
        "trusted": true
      },
      "outputs": [],
      "execution_count": null
    },
    {
      "cell_type": "code",
      "source": "df[\"year\"] = pd.to_numeric(df[\"Year\"],errors=\"coerce\")\ngrouped_data = df.groupby('Year')['Automobile_Sales'].sum().reset_index()\n\n# Plot the line chart\ngrouped_data.plot(x='Year', y='Automobile_Sales', kind='line', figsize=(10, 6))\n\nplt.title('Automobile Sales by Year')\nplt.xlabel('Year')\nplt.ylabel('Number of Sales')\nplt.grid(True)\nplt.show()",
      "metadata": {
        "trusted": true
      },
      "outputs": [],
      "execution_count": null
    },
    {
      "cell_type": "code",
      "source": "df[\"Year\"] = pd.to_numeric(df[\"Year\"],errors=\"coerce\")\nrecession_data = df[df['Recession'] == 1]\n\n# Group data by vehicle type and year, and sum the sales\ngrouped_recession_data = recession_data.groupby(['Vehicle_Type', 'Year'])['Automobile_Sales'].sum().reset_index()\n\n# Create a figure and axis\nfig, ax = plt.subplots(figsize=(12, 8))\n\n# Colors for different vehicle types\ncolors = np.array(['red', 'blue', 'green', 'orange', 'purple'])\n\n# Plot lines for each vehicle type\nfor i, vehicle_type in enumerate(grouped_recession_data['Vehicle_Type'].unique()):\n    subset = grouped_recession_data[grouped_recession_data['Vehicle_Type'] == vehicle_type]\n    ax.plot(subset['Year'], subset['Automobile_Sales'], label=vehicle_type, color = colors[i % len(colors)])\n\nax.set_title('Sales Trends of Different Vehicle Types During Recession')\nax.set_xlabel('Year')\nax.set_ylabel('Number of Sales')\nax.legend()\nax.grid(True)\nplt.show()",
      "metadata": {
        "trusted": true
      },
      "outputs": [],
      "execution_count": null
    },
    {
      "cell_type": "code",
      "source": "df[\"Year\"] = pd.to_numeric(df[\"Year\"],errors=\"coerce\")\nmelted_data = pd.melt(df, id_vars=['Year','Vehicle_Type','Recession'], value_vars=['Automobile_Sales'], var_name='metric', value_name='value')\n\n# Create a FacetGrid\ng = sns.FacetGrid(melted_data, col='Recession', hue='Vehicle_Type', col_wrap = 2, height = 4)\ng.map(sns.lineplot, 'Year', 'value')\n\n# Set titles and labels\ng.set_titles(col_template='Recession: {col_name}')\ng.set_axis_labels('Year', 'Automobile_Sales')\ng.add_legend()\n\nplt.show()",
      "metadata": {
        "trusted": true
      },
      "outputs": [],
      "execution_count": null
    },
    {
      "cell_type": "code",
      "source": "non_rec_data = df[df['Recession'] == 0]\n\nsize=non_rec_data['Seasonality_Weight'] #for bubble effect\n\nsns.scatterplot(data=non_rec_data, x='Month', y='Automobile_Sales', size=size)\n\n#you can further include hue='Seasonality_Weight', legend=False)\n\nplt.xlabel('Month')\nplt.ylabel('Automobile_Sales')\nplt.title('Seasonality impact on Automobile Sales')\n\nplt.show()",
      "metadata": {
        "trusted": true
      },
      "outputs": [],
      "execution_count": null
    },
    {
      "cell_type": "code",
      "source": "df[\"Year\"] = pd.to_numeric(df[\"Year\"],errors=\"coerce\")\n\n# Filter data for recession and non - recession periods\nrecession_data = df[df['Recession'] == 1]\nnon_recession_data = df[df['Recession'] == 0]\n\n# Create a figure with two sub - plots\nfig, (ax1, ax2) = plt.subplots(2, 1, figsize=(10, 8))\n\n# Plot for recession period\nax1.plot(recession_data['Year'], recession_data['GDP'], label='Recession GDP', color='red')\nax1.set_title('GDP During Recession')\nax1.set_xlabel('Year')\nax1.set_ylabel('GDP')\nax1.legend()\nax1.grid(True)\n\n# Plot for non - recession period\nax2.plot(non_recession_data['Year'], non_recession_data['GDP'], label='Non - Recession GDP', color='blue')\nax2.set_title('GDP During Non - Recession')\nax2.set_xlabel('Year')\nax2.set_ylabel('GDP')\nax2.legend()\nax2.grid(True)\n\n# Adjust the layout\nplt.tight_layout()\nplt.show()",
      "metadata": {
        "trusted": true
      },
      "outputs": [],
      "execution_count": null
    },
    {
      "cell_type": "code",
      "source": "rec_data = df[df['Recession'] == 1]\nplt.scatter(rec_data['Consumer_Confidence'], rec_data['Automobile_Sales'])\n\nplt.xlabel('Vehicle_Price')\nplt.ylabel('Automobile_Sales')\nplt.title('Correlation between Average Vehicle Price and sales Volume during Recessions')\nplt.show()",
      "metadata": {
        "trusted": true
      },
      "outputs": [],
      "execution_count": null
    },
    {
      "cell_type": "code",
      "source": "print(123)",
      "metadata": {
        "trusted": true
      },
      "outputs": [
        {
          "name": "stdout",
          "text": "123\n",
          "output_type": "stream"
        }
      ],
      "execution_count": 1
    },
    {
      "cell_type": "code",
      "source": "",
      "metadata": {
        "trusted": true
      },
      "outputs": [],
      "execution_count": null
    }
  ]
}